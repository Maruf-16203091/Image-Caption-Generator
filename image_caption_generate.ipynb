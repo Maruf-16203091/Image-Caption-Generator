{
  "cells": [
    {
      "cell_type": "markdown",
      "metadata": {
        "id": "view-in-github",
        "colab_type": "text"
      },
      "source": [
        "<a href=\"https://colab.research.google.com/github/Maruf-16203091/Image-Caption-Generator/blob/main/image_caption_generate.ipynb\" target=\"_parent\"><img src=\"https://colab.research.google.com/assets/colab-badge.svg\" alt=\"Open In Colab\"/></a>"
      ]
    },
    {
      "cell_type": "code",
      "execution_count": 17,
      "metadata": {
        "id": "rsVVFu3ZnVPl",
        "colab": {
          "base_uri": "https://localhost:8080/"
        },
        "outputId": "1a10b582-3532-452c-d39e-79632efc9f41"
      },
      "outputs": [
        {
          "output_type": "stream",
          "name": "stderr",
          "text": [
            "[nltk_data] Downloading package punkt to /root/nltk_data...\n",
            "[nltk_data]   Package punkt is already up-to-date!\n",
            "[nltk_data] Downloading package punkt_tab to /root/nltk_data...\n",
            "[nltk_data]   Package punkt_tab is already up-to-date!\n"
          ]
        }
      ],
      "source": [
        "import os\n",
        "import nltk\n",
        "from collections import Counter\n",
        "import torchvision.models as models\n",
        "import torch.nn as nn\n",
        "import torch\n",
        "import shutil\n",
        "nltk.download('punkt')\n",
        "nltk.download('punkt_tab')\n",
        "from torch.utils.data import Dataset\n",
        "from PIL import Image\n",
        "from torchvision import transforms\n",
        "from torch.utils.data import DataLoader\n",
        "from torchvision.models import resnet50, ResNet50_Weights\n",
        "import torch.optim as optim\n",
        "shutil.rmtree('/root/nltk_data/tokenizers/punkt', ignore_errors=True)\n",
        "\n",
        "\n",
        "\n"
      ]
    },
    {
      "cell_type": "code",
      "execution_count": 18,
      "metadata": {
        "colab": {
          "base_uri": "https://localhost:8080/"
        },
        "id": "KfcTOLJ41J7J",
        "outputId": "2910914e-b3b4-4bdb-b1a1-fb68bce6daec"
      },
      "outputs": [
        {
          "output_type": "stream",
          "name": "stdout",
          "text": [
            "Drive already mounted at /content/drive; to attempt to forcibly remount, call drive.mount(\"/content/drive\", force_remount=True).\n",
            "Vocabulary size: 5241\n",
            "Dataset size: 40455\n"
          ]
        }
      ],
      "source": [
        "# 1. Mount drive\n",
        "from google.colab import drive\n",
        "drive.mount('/content/drive')\n",
        "\n",
        "# 2. Define transform\n",
        "transform = transforms.Compose([\n",
        "    transforms.Resize((224, 224)),\n",
        "    transforms.ToTensor(),\n",
        "    transforms.Normalize(mean=[0.485, 0.456, 0.406],\n",
        "                         std=[0.229, 0.224, 0.225]),\n",
        "])\n",
        "\n",
        "# 3. Load and process captions\n",
        "captions_file = '/content/drive/My Drive/ML_Datasets/archive/captions.txt'\n",
        "captions_dict = {}\n",
        "\n",
        "with open(captions_file, 'r') as f:\n",
        "    next(f)  # Skip header\n",
        "    for line in f:\n",
        "        line = line.strip()\n",
        "        if not line:\n",
        "            continue\n",
        "        parts = line.split(',', 1)\n",
        "        if len(parts) < 2:\n",
        "            continue\n",
        "        image_id, caption = parts[0].strip(), parts[1].replace('\\t', ' ').strip().lower()\n",
        "        captions_dict.setdefault(image_id, []).append(caption)\n",
        "\n",
        "# 4. Build vocabulary\n",
        "all_captions = []\n",
        "for caps in captions_dict.values():\n",
        "    all_captions.extend(caps)\n",
        "\n",
        "tokenized_captions = [nltk.tokenize.word_tokenize(c) for c in all_captions]\n",
        "word_freq = Counter()\n",
        "for tokens in tokenized_captions:\n",
        "    word_freq.update(tokens)\n",
        "\n",
        "threshold = 2\n",
        "vocab = [word for word, count in word_freq.items() if count >= threshold]\n",
        "special_tokens = ['<pad>', '<start>', '<end>', '<unk>']\n",
        "vocab = special_tokens + vocab\n",
        "\n",
        "word2idx = {word: idx for idx, word in enumerate(vocab)}\n",
        "idx2word = {idx: word for word, idx in word2idx.items()}\n",
        "print(f\"Vocabulary size: {len(vocab)}\")\n",
        "\n",
        "# 5. Define dataset class\n",
        "class FlickrDataset(Dataset):\n",
        "    def __init__(self, root_dir, captions_dict, word2idx, transform=None, max_len=20):\n",
        "        self.root_dir = root_dir\n",
        "        self.word2idx = word2idx\n",
        "        self.transform = transform\n",
        "        self.max_len = max_len\n",
        "\n",
        "        self.items = []\n",
        "        for img_id, captions in captions_dict.items():\n",
        "            img_path = os.path.join(root_dir, img_id)\n",
        "            if os.path.exists(img_path):\n",
        "                for caption in captions:\n",
        "                    self.items.append((img_id, caption))\n",
        "\n",
        "    def __len__(self):\n",
        "        return len(self.items)\n",
        "\n",
        "    def __getitem__(self, idx):\n",
        "        img_id, caption = self.items[idx]\n",
        "        img_path = os.path.join(self.root_dir, img_id)\n",
        "\n",
        "        image = Image.open(img_path).convert(\"RGB\")\n",
        "        if self.transform:\n",
        "            image = self.transform(image)\n",
        "\n",
        "        tokens = nltk.tokenize.word_tokenize(caption.lower())\n",
        "        caption_idx = [self.word2idx['<start>']] + \\\n",
        "                      [self.word2idx.get(token, self.word2idx['<unk>']) for token in tokens] + \\\n",
        "                      [self.word2idx['<end>']]\n",
        "\n",
        "        if len(caption_idx) < self.max_len:\n",
        "            caption_idx += [self.word2idx['<pad>']] * (self.max_len - len(caption_idx))\n",
        "        else:\n",
        "            caption_idx = caption_idx[:self.max_len]\n",
        "\n",
        "        return image, torch.tensor(caption_idx)\n",
        "\n",
        "# 6. Set the correct image directory\n",
        "image_root_dir = '/content/drive/My Drive/ML_Datasets/archive/images'\n",
        "\n",
        "# 7. Create dataset AFTER captions_dict and vocab are ready\n",
        "dataset = FlickrDataset(\n",
        "    root_dir=image_root_dir,\n",
        "    captions_dict=captions_dict,\n",
        "    word2idx=word2idx,\n",
        "    transform=transform\n",
        ")\n",
        "\n",
        "# 8. Confirm dataset size\n",
        "print(f\"Dataset size: {len(dataset)}\")  # should be > 0\n",
        "\n",
        "# 9. Create dataloader\n",
        "dataloader = DataLoader(dataset, batch_size=32, shuffle=True)\n"
      ]
    },
    {
      "cell_type": "code",
      "execution_count": 18,
      "metadata": {
        "id": "P3VBB4_s3n0-"
      },
      "outputs": [],
      "source": []
    },
    {
      "cell_type": "code",
      "execution_count": 19,
      "metadata": {
        "id": "v068h2-IFo7b"
      },
      "outputs": [],
      "source": [
        "class EncoderCNN(nn.Module):\n",
        "    def __init__(self, embed_size):\n",
        "        super(EncoderCNN, self).__init__()\n",
        "\n",
        "\n",
        "        resnet = resnet50(weights=ResNet50_Weights.DEFAULT)\n",
        "\n",
        "        # Remove the last classification (fc) layer\n",
        "        modules = list(resnet.children())[:-1]\n",
        "        self.resnet = nn.Sequential(*modules)\n",
        "\n",
        "        # New fully connected layer for embedding\n",
        "        self.linear = nn.Linear(resnet.fc.in_features, embed_size)\n",
        "        self.bn = nn.BatchNorm1d(embed_size, momentum=0.01)\n",
        "\n",
        "    def forward(self, images):\n",
        "        with torch.no_grad():\n",
        "            features = self.resnet(images)  # [batch, 2048, 1, 1]\n",
        "        features = features.view(features.size(0), -1)  # [batch, 2048]\n",
        "        features = self.linear(features)               # [batch, embed_size]\n",
        "        features = self.bn(features)                   # [batch, embed_size]\n",
        "        return features\n"
      ]
    },
    {
      "cell_type": "code",
      "execution_count": 20,
      "metadata": {
        "id": "v8WdAucbFuhG"
      },
      "outputs": [],
      "source": [
        "class DecoderRNN(nn.Module):\n",
        "    def __init__(self, embed_size, hidden_size, vocab_size, num_layers=1):\n",
        "        super(DecoderRNN, self).__init__()\n",
        "        self.embed = nn.Embedding(vocab_size, embed_size)\n",
        "        self.lstm = nn.LSTM(embed_size, hidden_size, num_layers, batch_first=True)\n",
        "        self.linear = nn.Linear(hidden_size, vocab_size)\n",
        "\n",
        "    def forward(self, features, captions):\n",
        "        embeddings = self.embed(captions[:, :-1])  # Exclude <end> token\n",
        "        inputs = torch.cat((features.unsqueeze(1), embeddings), 1)\n",
        "        lstm_out, _ = self.lstm(inputs)\n",
        "        outputs = self.linear(lstm_out)\n",
        "        return outputs\n",
        "\n",
        "    def sample(self, features, max_len=20):\n",
        "        sampled_ids = []\n",
        "        inputs = features.unsqueeze(1)\n",
        "        states = None\n",
        "\n",
        "        for _ in range(max_len):\n",
        "            lstm_out, states = self.lstm(inputs, states)\n",
        "            outputs = self.linear(lstm_out.squeeze(1))\n",
        "            _, predicted = outputs.max(1)\n",
        "            sampled_ids.append(predicted.item())\n",
        "            inputs = self.embed(predicted)\n",
        "            inputs = inputs.unsqueeze(1)\n",
        "            if predicted == word2idx['<end>']:\n",
        "                break\n",
        "        return sampled_ids\n"
      ]
    },
    {
      "cell_type": "code",
      "execution_count": 21,
      "metadata": {
        "id": "zgpU65axF1mN",
        "colab": {
          "base_uri": "https://localhost:8080/"
        },
        "outputId": "ff5f8b33-ecaf-49a0-c660-d203541f5bed"
      },
      "outputs": [
        {
          "output_type": "stream",
          "name": "stderr",
          "text": [
            "/usr/local/lib/python3.11/dist-packages/torchvision/models/_utils.py:208: UserWarning: The parameter 'pretrained' is deprecated since 0.13 and may be removed in the future, please use 'weights' instead.\n",
            "  warnings.warn(\n",
            "/usr/local/lib/python3.11/dist-packages/torchvision/models/_utils.py:223: UserWarning: Arguments other than a weight enum or `None` for 'weights' are deprecated since 0.13 and may be removed in the future. The current behavior is equivalent to passing `weights=ResNet50_Weights.IMAGENET1K_V1`. You can also use `weights=ResNet50_Weights.DEFAULT` to get the most up-to-date weights.\n",
            "  warnings.warn(msg)\n",
            "Downloading: \"https://download.pytorch.org/models/resnet50-0676ba61.pth\" to /root/.cache/torch/hub/checkpoints/resnet50-0676ba61.pth\n",
            "100%|██████████| 97.8M/97.8M [00:00<00:00, 193MB/s]\n"
          ]
        }
      ],
      "source": [
        "embed_size = 256\n",
        "hidden_size = 512\n",
        "vocab_size = len(vocab)\n",
        "num_epochs = 10\n",
        "learning_rate = 1e-3\n",
        "\n",
        "device = torch.device(\"cuda\" if torch.cuda.is_available() else \"cpu\")\n",
        "\n",
        "encoder = EncoderCNN(embed_size).to(device)\n",
        "decoder = DecoderRNN(embed_size, hidden_size, vocab_size).to(device)\n"
      ]
    },
    {
      "cell_type": "code",
      "execution_count": 22,
      "metadata": {
        "colab": {
          "base_uri": "https://localhost:8080/"
        },
        "id": "Dd05vRobLHZz",
        "outputId": "1f6c00b0-4c13-4248-c752-dde7dbd88916"
      },
      "outputs": [
        {
          "output_type": "stream",
          "name": "stdout",
          "text": [
            "Epoch [1/10], Loss: 4.0577, Accuracy: 27.39%\n",
            "Epoch [2/10], Loss: 3.4304, Accuracy: 31.95%\n",
            "Epoch [3/10], Loss: 3.1435, Accuracy: 34.18%\n",
            "Epoch [4/10], Loss: 2.9102, Accuracy: 36.25%\n",
            "Epoch [5/10], Loss: 2.6997, Accuracy: 38.73%\n",
            "Epoch [6/10], Loss: 2.5087, Accuracy: 41.48%\n",
            "Epoch [7/10], Loss: 2.3347, Accuracy: 44.31%\n",
            "Epoch [8/10], Loss: 2.1832, Accuracy: 47.15%\n",
            "Epoch [9/10], Loss: 2.0477, Accuracy: 49.81%\n",
            "Epoch [10/10], Loss: 1.9274, Accuracy: 52.28%\n"
          ]
        }
      ],
      "source": [
        "from torch.nn.functional import softmax\n",
        "\n",
        "num_epochs = 10\n",
        "learning_rate = 1e-3\n",
        "criterion = torch.nn.CrossEntropyLoss(ignore_index=word2idx['<pad>'])\n",
        "optimizer = torch.optim.Adam(list(encoder.parameters()) + list(decoder.parameters()), lr=learning_rate)\n",
        "\n",
        "for epoch in range(num_epochs):\n",
        "    encoder.train()\n",
        "    decoder.train()\n",
        "    total_loss = 0.0\n",
        "    total_correct = 0\n",
        "    total_tokens = 0\n",
        "\n",
        "    for images, captions in dataloader:\n",
        "        images, captions = images.to(device), captions.to(device)\n",
        "\n",
        "        optimizer.zero_grad()\n",
        "        features = encoder(images)\n",
        "        outputs = decoder(features, captions)\n",
        "\n",
        "        # Align shapes\n",
        "        outputs = outputs[:, :-1, :].reshape(-1, vocab_size)\n",
        "        targets = captions[:, 1:].reshape(-1)\n",
        "\n",
        "        loss = criterion(outputs, targets)\n",
        "        loss.backward()\n",
        "        optimizer.step()\n",
        "        total_loss += loss.item()\n",
        "\n",
        "        # ----- Accuracy Calculation -----\n",
        "        _, predicted = torch.max(outputs, dim=1)\n",
        "        mask = targets != word2idx['<pad>']  # Ignore <pad> positions\n",
        "        correct = (predicted == targets) & mask\n",
        "        total_correct += correct.sum().item()\n",
        "        total_tokens += mask.sum().item()\n",
        "\n",
        "    accuracy = 100 * total_correct / total_tokens\n",
        "    avg_loss = total_loss / len(dataloader)\n",
        "\n",
        "    print(f\"Epoch [{epoch+1}/{num_epochs}], Loss: {avg_loss:.4f}, Accuracy: {accuracy:.2f}%\")\n"
      ]
    },
    {
      "cell_type": "code",
      "execution_count": 30,
      "metadata": {
        "id": "vF57W2PqNl4t",
        "colab": {
          "base_uri": "https://localhost:8080/"
        },
        "outputId": "bbcdb228-908c-4099-88dd-55e24cd053ce"
      },
      "outputs": [
        {
          "output_type": "stream",
          "name": "stdout",
          "text": [
            "a in <unk>\n"
          ]
        }
      ],
      "source": [
        "def generate_caption(image_path):\n",
        "    encoder.eval()\n",
        "    decoder.eval()\n",
        "\n",
        "    image = Image.open(image_path).convert(\"RGB\")\n",
        "    image = transform(image).unsqueeze(0).to(device)\n",
        "\n",
        "    with torch.no_grad():\n",
        "        feature = encoder(image)\n",
        "        sampled_ids = decoder.sample(feature)\n",
        "\n",
        "    sampled_caption = []\n",
        "    for word_id in sampled_ids:\n",
        "        word = idx2word[word_id]\n",
        "        if word == '<end>':\n",
        "            break\n",
        "        sampled_caption.append(word)\n",
        "\n",
        "    sentence = ' '.join(sampled_caption)\n",
        "    return sentence\n",
        "\n",
        "# Example\n",
        "print(generate_caption('/content/drive/My Drive/ML_Datasets/archive/images/72964268_d532bb8ec7.jpg'))\n"
      ]
    }
  ],
  "metadata": {
    "colab": {
      "provenance": [],
      "gpuType": "T4",
      "authorship_tag": "ABX9TyM4VZ65iukWXwVabl6EJ79J",
      "include_colab_link": true
    },
    "kernelspec": {
      "display_name": "Python 3",
      "name": "python3"
    },
    "language_info": {
      "name": "python"
    },
    "accelerator": "GPU"
  },
  "nbformat": 4,
  "nbformat_minor": 0
}